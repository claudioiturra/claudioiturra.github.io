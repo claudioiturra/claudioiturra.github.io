{
 "cells": [
  {
   "cell_type": "code",
   "execution_count": null,
   "id": "cffe0cf9-04d7-44fd-96a2-5f27e8ae4945",
   "metadata": {},
   "outputs": [],
   "source": [
    "x = 1:.1:100; % horizontal distance\n",
    "lambda = 20;  % wavelength\n",
    "c = 5;        % wave speed\n",
    "A = 1.5;      % wave amplitude \n",
    "% Initialize plot: \n",
    "hold on\n",
    "xlabel('distance (m)')\n",
    "ylabel('wave height (m)') \n",
    "box off\n",
    "axis([0 100 -5 5])\n",
    "% Make an animation: \n",
    "for t= 0:.1:10\n",
    "      % Calculate wave height along x at time t: \n",
    "      y = A*sin((2*pi/lambda)*(x-c*t)); \n",
    "      % Plot wave: \n",
    "      hwave = fill([x,100,0],[y,-5,-5],[.01 .44 .61],'edgecolor','b'); \n",
    "      % Get buoy height if buoy is at x = 75 m:  \n",
    "      ybuoy = y(x==75)+.1; \n",
    "      hbuoy = plot(75,ybuoy,'ko','markersize',16,'markerfacecolor','r');\n",
    "      % Draw a frame, wait 1/10 second, delete objects and repeat loop: \n",
    "      drawnow\n",
    "      pause(.1)\n",
    "      delete([hwave hbuoy])\n",
    "  end"
   ]
  },
  {
   "cell_type": "markdown",
   "id": "c118d6ea-abf9-4c7d-9121-124644176a0f",
   "metadata": {},
   "source": [
    "<video width=\"320\" height=\"240\" controls>\n",
    "  <source src=\"001.mov\" type=\"video/mp4\">\n",
    "</video>"
   ]
  },
  {
   "cell_type": "code",
   "execution_count": null,
   "id": "11da96e8-8c72-4c41-9859-a5a3c4ea106b",
   "metadata": {},
   "outputs": [],
   "source": []
  }
 ],
 "metadata": {
  "kernelspec": {
   "display_name": "Matlab",
   "language": "matlab",
   "name": "matlab"
  },
  "language_info": {
   "codemirror_mode": "octave",
   "file_extension": ".m",
   "help_links": [
    {
     "text": "MetaKernel Magics",
     "url": "https://metakernel.readthedocs.io/en/latest/source/README.html"
    }
   ],
   "mimetype": "text/x-octave",
   "name": "matlab",
   "version": "0.17.1"
  }
 },
 "nbformat": 4,
 "nbformat_minor": 5
}
